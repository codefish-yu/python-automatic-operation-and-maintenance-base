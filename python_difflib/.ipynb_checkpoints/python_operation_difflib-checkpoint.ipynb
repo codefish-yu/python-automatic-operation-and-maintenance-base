{
 "cells": [
  {
   "cell_type": "markdown",
   "metadata": {},
   "source": [
    "# python自动化运维：difflib模块(文本比对)"
   ]
  },
  {
   "cell_type": "markdown",
   "metadata": {},
   "source": [
    "#### 用途：项目在版本升级后内容的比对检查(在版本控制时非常有用)"
   ]
  },
  {
   "cell_type": "markdown",
   "metadata": {},
   "source": [
    "#### 1. 比对两个差异文件"
   ]
  },
  {
   "cell_type": "code",
   "execution_count": 15,
   "metadata": {},
   "outputs": [
    {
     "name": "stdout",
     "output_type": "stream",
     "text": [
      "  this module provide class and function for compute,\n",
      "-            include html and text file .version7.4\n",
      "?                                                 ^\n",
      "\n",
      "+            include html and text file .version7.5\n",
      "?                                                 ^\n",
      "\n"
     ]
    }
   ],
   "source": [
    "import difflib\n",
    "\n",
    "#文本１\n",
    "text1 = '''this module provide class and function for compute,\n",
    "           include html and text file .version7.4'''\n",
    "#文本２\n",
    "text2 = '''this module provide class and function for compute,\n",
    "           include html and text file .version7.5'''\n",
    "\n",
    "#使用splitlines()按照行将字符串切成列表\n",
    "text1_line = text1.splitlines()\n",
    "text2_line = text2.splitlines()\n",
    "#创建差异比较对象\n",
    "d = difflib.Differ()\n",
    "diff = d.compare(text1_line,text2_line)\n",
    "# print(list(diff))\n",
    "print('\\n'.join(list(diff)))#字符串"
   ]
  },
  {
   "cell_type": "markdown",
   "metadata": {},
   "source": [
    "#### 2. 实战"
   ]
  },
  {
   "cell_type": "code",
   "execution_count": null,
   "metadata": {},
   "outputs": [],
   "source": [
    "import sys"
   ]
  },
  {
   "cell_type": "code",
   "execution_count": null,
   "metadata": {},
   "outputs": [],
   "source": [
    "textfile1 = ''"
   ]
  }
 ],
 "metadata": {
  "kernelspec": {
   "display_name": "Python 3",
   "language": "python",
   "name": "python3"
  },
  "language_info": {
   "codemirror_mode": {
    "name": "ipython",
    "version": 3
   },
   "file_extension": ".py",
   "mimetype": "text/x-python",
   "name": "python",
   "nbconvert_exporter": "python",
   "pygments_lexer": "ipython3",
   "version": "3.6.9"
  }
 },
 "nbformat": 4,
 "nbformat_minor": 2
}
