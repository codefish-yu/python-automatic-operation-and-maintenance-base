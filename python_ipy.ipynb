{
 "cells": [
  {
   "cell_type": "markdown",
   "metadata": {},
   "source": [
    "## python自动化运维：IPy模块：处理ip地址"
   ]
  },
  {
   "cell_type": "code",
   "execution_count": 1,
   "metadata": {},
   "outputs": [],
   "source": [
    "import IPy"
   ]
  },
  {
   "cell_type": "code",
   "execution_count": 2,
   "metadata": {},
   "outputs": [
    {
     "name": "stdout",
     "output_type": "stream",
     "text": [
      "4\n",
      "6\n"
     ]
    }
   ],
   "source": [
    "#查看ip地址是ipv4的还是ipv6的\n",
    "print(IPy.IP('10.0.0.0/8').version())\n",
    "print(IPy.IP('::1').version())"
   ]
  },
  {
   "cell_type": "markdown",
   "metadata": {},
   "source": [
    "#### 多网络计算：查看该网络有多少个ip地址"
   ]
  },
  {
   "cell_type": "code",
   "execution_count": 3,
   "metadata": {},
   "outputs": [
    {
     "name": "stdout",
     "output_type": "stream",
     "text": [
      "4\n",
      "121.31.5.0\n",
      "121.31.5.1\n",
      "121.31.5.2\n",
      "121.31.5.3\n"
     ]
    }
   ],
   "source": [
    "#查看运营商给你的网络(30是子网掩码):121.31.5.0/30能产生多少个ip地址，并查看\n",
    "#32-30 = 2 2的2次方=4个\n",
    "#注：所有的网络的ip地址，0和最后一个不能使用\n",
    "var01 = IPy.IP('121.31.5.0/30')\n",
    "print(var01.len())\n",
    "for x in var01:\n",
    "    print(x)"
   ]
  },
  {
   "cell_type": "markdown",
   "metadata": {},
   "source": [
    "一般这样的网络，121.31.5.1分配给你自己的机器，121.31.5.2叫局端网络"
   ]
  },
  {
   "cell_type": "markdown",
   "metadata": {},
   "source": [
    "#### 网络检测"
   ]
  },
  {
   "cell_type": "markdown",
   "metadata": {},
   "source": [
    "/16代表前两位为网络号，如果前两位相同则说明某ip地址属于该网络\n",
    "/24代表前３位为网络号，如果前三位不相同则说明某ip地址不属于该网络"
   ]
  },
  {
   "cell_type": "code",
   "execution_count": 5,
   "metadata": {
    "scrolled": true
   },
   "outputs": [
    {
     "name": "stdout",
     "output_type": "stream",
     "text": [
      "True\n"
     ]
    }
   ],
   "source": [
    "#查看ip地址192.168.13.249是否在网络192.168.0.0/16中\n",
    "print('192.168.13.249' in IPy.IP('192.168.0.0/16'))"
   ]
  },
  {
   "cell_type": "code",
   "execution_count": 6,
   "metadata": {
    "scrolled": true
   },
   "outputs": [
    {
     "name": "stdout",
     "output_type": "stream",
     "text": [
      "False\n"
     ]
    }
   ],
   "source": [
    "#查看ip地址192.168.13.249是否在网络192.168.0.0/24下\n",
    "print('192.168.13.249' in IPy.IP('192.168.0.0/24'))"
   ]
  },
  {
   "cell_type": "code",
   "execution_count": null,
   "metadata": {
    "scrolled": false
   },
   "outputs": [
    {
     "name": "stdout",
     "output_type": "stream",
     "text": [
      "Input ip address:192.168.1.30\n",
      "192.168.1.30\n",
      "11000000101010000000000100011110\n",
      "Input ip address:192.168.1.0/24\n",
      "192.168.1.0\n",
      "192.168.1.255\n",
      "255.255.255.0\n",
      "256\n"
     ]
    }
   ],
   "source": [
    "#查看网络信息\n",
    "while True:\n",
    "    ip_s = input('Input ip address:')\n",
    "    #将用户输入的ip地址(字符串)转为IP对象\n",
    "    ips = IPy.IP(ip_s)\n",
    "    #如果用户输入的是网络(len>1),则显示出网络号，广播地址，子网掩码,该网络的ip地址数\n",
    "    if len(ips) > 1:\n",
    "        print(ips.net())\n",
    "        print(ips.broadcast())\n",
    "        print(ips.netmask())\n",
    "        print(len(ips))\n",
    "    #如用户输入的是ip地址，则显示该ip地址和他的二进制\n",
    "    else:\n",
    "        print(ips)\n",
    "        print(ips.strBin())"
   ]
  },
  {
   "cell_type": "code",
   "execution_count": null,
   "metadata": {},
   "outputs": [],
   "source": [
    "#查看该ip是私有ip还是公网ip\n",
    "#192.168/10/172.16~3１这三种开头的都是私有地址，其他都是公网地址\n",
    "while True:\n",
    "    ip_s = input('Input IP address:')\n",
    "    ip = IPy.IP(ip_s)\n",
    "    print(ip.iptype())"
   ]
  }
 ],
 "metadata": {
  "kernelspec": {
   "display_name": "Python 3",
   "language": "python",
   "name": "python3"
  },
  "language_info": {
   "codemirror_mode": {
    "name": "ipython",
    "version": 3
   },
   "file_extension": ".py",
   "mimetype": "text/x-python",
   "name": "python",
   "nbconvert_exporter": "python",
   "pygments_lexer": "ipython3",
   "version": "3.6.9"
  }
 },
 "nbformat": 4,
 "nbformat_minor": 2
}
