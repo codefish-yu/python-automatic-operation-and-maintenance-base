{
 "cells": [
  {
   "cell_type": "markdown",
   "metadata": {},
   "source": [
    "## python自动化运维：filecmp模块，文件目录比对"
   ]
  },
  {
   "cell_type": "code",
   "execution_count": 4,
   "metadata": {},
   "outputs": [
    {
     "name": "stdout",
     "output_type": "stream",
     "text": [
      "False\n"
     ]
    }
   ],
   "source": [
    "import filecmp\n",
    "\n",
    "class Filecmp:\n",
    "    \n",
    "    #比较两个文件内容是否一致，返回true/false\n",
    "    def cmp(self,file1,file2):\n",
    "        re\n",
    "        \n",
    "    file1 = '/home/tarena/operation/nginx.conf'\n",
    "    file2 = '/home/tarena/operation/nginx1.conf'\n",
    "\n",
    "#比较两个文件内容是否一致\n",
    "result = filecmp.cmp(file1,file2)\n",
    "\n",
    "print(result)"
   ]
  },
  {
   "cell_type": "code",
   "execution_count": null,
   "metadata": {},
   "outputs": [],
   "source": [
    "#比较目录"
   ]
  }
 ],
 "metadata": {
  "kernelspec": {
   "display_name": "Python 3",
   "language": "python",
   "name": "python3"
  },
  "language_info": {
   "codemirror_mode": {
    "name": "ipython",
    "version": 3
   },
   "file_extension": ".py",
   "mimetype": "text/x-python",
   "name": "python",
   "nbconvert_exporter": "python",
   "pygments_lexer": "ipython3",
   "version": "3.6.9"
  }
 },
 "nbformat": 4,
 "nbformat_minor": 2
}
