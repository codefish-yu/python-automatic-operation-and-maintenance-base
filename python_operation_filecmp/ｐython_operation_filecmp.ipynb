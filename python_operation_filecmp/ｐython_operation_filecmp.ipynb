{
 "cells": [
  {
   "cell_type": "markdown",
   "metadata": {},
   "source": [
    "## python自动化运维：filecmp模块，文件目录比对"
   ]
  },
  {
   "cell_type": "code",
   "execution_count": 10,
   "metadata": {},
   "outputs": [
    {
     "name": "stdout",
     "output_type": "stream",
     "text": [
      "请输入您想比较的文件目录１：/home/tarena/operation/python_operation_filecmp/test1\n",
      "请输入您相比较的文件目录２：/home/tarena/operation/python_operation_filecmp/test2\n",
      "diff /home/tarena/operation/python_operation_filecmp/test1 /home/tarena/operation/python_operation_filecmp/test2\n",
      "Only in /home/tarena/operation/python_operation_filecmp/test1 : ['nginx.conf']\n",
      "Only in /home/tarena/operation/python_operation_filecmp/test2 : ['nginx1.conf']\n",
      "None\n",
      "请输入您想比较的文件内容１：test1/nginx.conf\n",
      "请输入您想比较的文件内容２：test2/nginx1.conf\n",
      "False\n"
     ]
    }
   ],
   "source": [
    "import filecmp\n",
    "import sys\n",
    "\n",
    "class Cmp:\n",
    "    \n",
    "    #比较两个文件内容是否一致，返回true/false\n",
    "    def cmp(self,file1,file2):\n",
    "        try:\n",
    "            file1 = file1\n",
    "            file2 = file2\n",
    "            result = filecmp.cmp(file1,file2)\n",
    "            return result\n",
    "        except:\n",
    "            pirnt('file error')\n",
    "            sys.exit()\n",
    "    \n",
    "    #比较两个目录下面文件是否一致\n",
    "    def dircmp(self,file1,file2):\n",
    "        try:\n",
    "            file1 = file1\n",
    "            file2 = file2\n",
    "            result = filecmp.dircmp(file1,file2)\n",
    "            return result.report()\n",
    "        except:\n",
    "            print('file error')\n",
    "            sys.exit()\n",
    "            \n",
    "\n",
    "    def run(self):\n",
    "        #比较两个文件目录是否一致\n",
    "        dir1 = input('请输入您想比较的文件目录１：')\n",
    "        dir2 = input('请输入您相比较的文件目录２：')\n",
    "        dir_result = cmp.dircmp(dir1,dir2)\n",
    "        print(dir_result)\n",
    "        \n",
    "        #比较两个文件内容是否一致\n",
    "        file1 = input('请输入您想比较的文件内容１：')\n",
    "        file2 = input('请输入您想比较的文件内容２：')\n",
    "        file_path = '/home/tarena/operation/python_operation_filecmp/{}'\n",
    "        file1 = file_path.format(file1)\n",
    "        file2 = file_path.format(file2)\n",
    "        content_result = cmp.cmp(file1,file2)\n",
    "        print(content_result)\n",
    "\n",
    "if __name__ == \"__main__\":\n",
    "    #实例化类\n",
    "    cmp = Cmp()\n",
    "    cmp.run()"
   ]
  },
  {
   "cell_type": "code",
   "execution_count": null,
   "metadata": {},
   "outputs": [],
   "source": [
    "#比较目录"
   ]
  }
 ],
 "metadata": {
  "kernelspec": {
   "display_name": "Python 3",
   "language": "python",
   "name": "python3"
  },
  "language_info": {
   "codemirror_mode": {
    "name": "ipython",
    "version": 3
   },
   "file_extension": ".py",
   "mimetype": "text/x-python",
   "name": "python",
   "nbconvert_exporter": "python",
   "pygments_lexer": "ipython3",
   "version": "3.6.9"
  }
 },
 "nbformat": 4,
 "nbformat_minor": 2
}
